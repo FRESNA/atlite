{
 "cells": [
  {
   "cell_type": "markdown",
   "metadata": {},
   "source": [
    "# Downloading ERA5 data and creating a cutout"
   ]
  },
  {
   "cell_type": "markdown",
   "metadata": {},
   "source": [
    "In this example we download ERA5 data on-demand for a cutout we want to create.\n",
    "\n",
    "This only works if you have in before\n",
    " * Installed the Copernicus Climate Data Store 'cdsapi' package\n",
    " * Registered and setup your cdsapi key as described here\n",
    "   https://cds.climate.copernicus.eu/api-how-to\n",
    "\n",
    "Atlite does also work with other datasources, but ERA5 is the easiest one to get started."
   ]
  },
  {
   "cell_type": "code",
   "execution_count": 1,
   "metadata": {},
   "outputs": [],
   "source": [
    "import atlite"
   ]
  },
  {
   "cell_type": "code",
   "execution_count": 2,
   "metadata": {},
   "outputs": [],
   "source": [
    "# (Optional, but always recommended) Register a logger to get informative messages\n",
    "import logging\n",
    "logging.basicConfig(level=logging.INFO)"
   ]
  },
  {
   "cell_type": "markdown",
   "metadata": {},
   "source": [
    "## Define the cutout\n",
    "*This will not yet trigger any major operations.*\n",
    "\n",
    "The cutout contains\n",
    "\n",
    "* data from the ERA5 dataset\n",
    "* data on the Republic of Ireland + UK + parts of the atlantic ocean\n",
    "* the time slice of January 2011\n",
    "\n",
    "and is stored in the local directory (`cutout_dir= \"./\"`) with the `name=\"western-europe-2011-01\"`."
   ]
  },
  {
   "cell_type": "code",
   "execution_count": 3,
   "metadata": {},
   "outputs": [
    {
     "name": "stderr",
     "output_type": "stream",
     "text": [
      "INFO:atlite.cutout:Cutout western-europe-2011-01 not found in directory ./, building new one\n"
     ]
    }
   ],
   "source": [
    "cutout = atlite.Cutout(name=\"western-europe-2011-01\",\n",
    "                       cutout_dir=\"./\",\n",
    "                       module=\"era5\",\n",
    "                       x=slice(-13.6913, 1.7712),\n",
    "                       y=slice(60.8479, 49.9096),\n",
    "                       time=\"2011-01\"\n",
    "                       )"
   ]
  },
  {
   "cell_type": "markdown",
   "metadata": {},
   "source": [
    "## Preparation of the cutout\n",
    "\n",
    "If the cutout does not yet exist (\"is prepared\"),\n",
    "then this is where all the work actually happens."
   ]
  },
  {
   "cell_type": "code",
   "execution_count": 4,
   "metadata": {},
   "outputs": [
    {
     "name": "stderr",
     "output_type": "stream",
     "text": [
      "INFO:cdsapi:Sending request to https://cds.climate.copernicus.eu/api/v2/resources/reanalysis-era5-single-levels\n",
      "INFO:cdsapi:Sending request to https://cds.climate.copernicus.eu/api/v2/resources/reanalysis-era5-single-levels\n",
      "INFO:cdsapi:Sending request to https://cds.climate.copernicus.eu/api/v2/resources/reanalysis-era5-single-levels\n",
      "INFO:cdsapi:Sending request to https://cds.climate.copernicus.eu/api/v2/resources/reanalysis-era5-single-levels\n",
      "INFO:cdsapi:Sending request to https://cds.climate.copernicus.eu/api/v2/resources/reanalysis-era5-single-levels\n",
      "INFO:cdsapi:Request is queued\n",
      "INFO:cdsapi:Request is queued\n",
      "INFO:cdsapi:Request is queued\n",
      "INFO:cdsapi:Request is queued\n",
      "INFO:cdsapi:Request is queued\n",
      "INFO:cdsapi:Request is running\n",
      "INFO:cdsapi:Request is running\n",
      "INFO:cdsapi:Request is running\n",
      "INFO:cdsapi:Request is running\n",
      "INFO:cdsapi:Request is running\n",
      "INFO:cdsapi:Request is completed\n",
      "INFO:atlite.datasets.common:Downloading request for 9 variables to C:\\Users\\USER\\AppData\\Local\\Temp\\tmppuf4wjyn.nc\n",
      "INFO:cdsapi:Downloading http://136.156.132.210/cache-compute-0005/cache/data0/adaptor.mars.internal-1565269011.6574955-8512-1-a2dbfcaa-4881-4b45-a473-d3b4a6b55593.nc to C:\\Users\\USER\\AppData\\Local\\Temp\\tmppuf4wjyn.nc (6.8K)\n",
      "INFO:cdsapi:Download rate 61.8K/s\n",
      "INFO:cdsapi:Request is completed\n",
      "INFO:atlite.datasets.common:Downloading request for 1 variables to C:\\Users\\USER\\AppData\\Local\\Temp\\tmpv0hxl5a4.nc\n",
      "INFO:cdsapi:Downloading http://136.156.132.236/cache-compute-0007/cache/data4/adaptor.mars.internal-1565269011.6619906-20655-1-0b4776b8-fdc7-4ddd-a63c-690d04b5320c.nc to C:\\Users\\USER\\AppData\\Local\\Temp\\tmpv0hxl5a4.nc (3.9M)\n",
      "INFO:cdsapi:Download rate 5.1M/s\n",
      "INFO:cdsapi:Request is completed\n",
      "INFO:atlite.datasets.common:Downloading request for 2 variables to C:\\Users\\USER\\AppData\\Local\\Temp\\tmp0lruqxx5.nc\n",
      "INFO:cdsapi:Downloading http://136.156.132.198/cache-compute-0003/cache/data3/adaptor.mars.internal-1565269011.6628366-26626-1-6dede75b-fb81-4433-af4d-d4bb87166c4e.nc to C:\\Users\\USER\\AppData\\Local\\Temp\\tmp0lruqxx5.nc (7.7M)\n",
      "INFO:cdsapi:Request is completed\n",
      "INFO:atlite.datasets.common:Downloading request for 3 variables to C:\\Users\\USER\\AppData\\Local\\Temp\\tmptkscvimk.nc\n",
      "INFO:cdsapi:Downloading http://136.156.132.110/cache-compute-0001/cache/data0/adaptor.mars.internal-1565269011.6303792-15327-25-c44ab472-29c9-425f-94cf-38929c4c4551.nc to C:\\Users\\USER\\AppData\\Local\\Temp\\tmptkscvimk.nc (11.6M)\n",
      "  0%|                                                                                                                                  | 0.00/7.75M [00:00<?, ?B/s]\n",
      "  2%|██▏                                                                                                                       | 139k/7.75M [00:00<00:05, 1.40MB/s]\n",
      "  5%|██████▋                                                                                                                   | 433k/7.75M [00:00<00:04, 1.66MB/s]\n",
      " 13%|███████████████▎                                                                                                          | 996k/7.75M [00:00<00:03, 2.11MB/s]\n",
      " 17%|████████████████████▌                                                                                                    | 1.32M/7.75M [00:00<00:02, 2.40MB/s]\n",
      " 25%|██████████████████████████████▋                                                                                          | 1.96M/7.75M [00:00<00:02, 2.98MB/s]\n",
      " 30%|████████████████████████████████████▋                                                                                    | 2.35M/7.75M [00:00<00:01, 3.15MB/s]\n",
      " 37%|████████████████████████████████████████████▋                                                                            | 2.86M/7.75M [00:00<00:01, 3.50MB/s]\n",
      " 42%|██████████████████████████████████████████████████▊                                                                      | 3.25M/7.75M [00:00<00:01, 3.63MB/s]\n",
      " 48%|█████████████████████████████████████████████████████████▊                                                               | 3.70M/7.75M [00:00<00:01, 3.88MB/s]\n",
      " 55%|██████████████████████████████████████████████████████████████████▋                                                      | 4.27M/7.75M [00:01<00:00, 4.34MB/s]\n",
      " 61%|█████████████████████████████████████████████████████████████████████████▊                                               | 4.73M/7.75M [00:01<00:00, 4.45MB/s]\n",
      " 67%|████████████████████████████████████████████████████████████████████████████████▉                                        | 5.19M/7.75M [00:01<00:00, 4.54MB/s]\n",
      " 73%|████████████████████████████████████████████████████████████████████████████████████████                                 | 5.64M/7.75M [00:01<00:00, 4.38MB/s]\n",
      " 79%|███████████████████████████████████████████████████████████████████████████████████████████████▎                         | 6.10M/7.75M [00:01<00:00, 4.47MB/s]\n",
      " 86%|████████████████████████████████████████████████████████████████████████████████████████████████████████▏                | 6.67M/7.75M [00:01<00:00, 4.83MB/s]\n",
      " 93%|████████████████████████████████████████████████████████████████████████████████████████████████████████████████▉        | 7.23M/7.75M [00:01<00:00, 5.01MB/s]\n",
      "INFO:cdsapi:Download rate 4.1M/s\n",
      "INFO:cdsapi:Download rate 5.1M/s\n",
      "INFO:cdsapi:Request is completed\n",
      "INFO:atlite.datasets.common:Downloading request for 4 variables to C:\\Users\\USER\\AppData\\Local\\Temp\\tmpxo7yk5yd.nc\n",
      "INFO:cdsapi:Downloading http://136.156.133.36/cache-compute-0010/cache/data5/adaptor.mars.internal-1565269011.2392642-1507-11-59c40c91-e9f6-433d-a42b-5e94f5b0e696.nc to C:\\Users\\USER\\AppData\\Local\\Temp\\tmpxo7yk5yd.nc (15.5M)\n",
      "INFO:cdsapi:Download rate 5.7M/s\n",
      "C:\\anaconda\\envs\\atlite\\lib\\site-packages\\dask\\core.py:119: RuntimeWarning: divide by zero encountered in true_divide\n",
      "  return func(*args2)\n",
      "C:\\anaconda\\envs\\atlite\\lib\\site-packages\\dask\\core.py:119: RuntimeWarning: invalid value encountered in true_divide\n",
      "  return func(*args2)\n",
      "INFO:atlite.datasets.common:Deleting file C:\\Users\\USER\\AppData\\Local\\Temp\\tmppuf4wjyn.nc\n",
      "INFO:atlite.datasets.common:Deleting file C:\\Users\\USER\\AppData\\Local\\Temp\\tmp0lruqxx5.nc\n",
      "INFO:atlite.datasets.common:Deleting file C:\\Users\\USER\\AppData\\Local\\Temp\\tmptkscvimk.nc\n",
      "INFO:atlite.datasets.common:Deleting file C:\\Users\\USER\\AppData\\Local\\Temp\\tmpv0hxl5a4.nc\n",
      "INFO:atlite.datasets.common:Deleting file C:\\Users\\USER\\AppData\\Local\\Temp\\tmpxo7yk5yd.nc\n"
     ]
    }
   ],
   "source": [
    "# This is where all the work happens (this can take some time).\n",
    "cutout.prepare()"
   ]
  },
  {
   "cell_type": "code",
   "execution_count": 5,
   "metadata": {},
   "outputs": [
    {
     "data": {
      "text/plain": [
       "<Cutout western-europe-2011-01 x=-13.50-1.75 y=60.75-50.00 time=2011-01-01T00:00:00.000000000-2011-01-31T23:00:00.000000000 prepared_features=['temperature', 'runoff', 'wind', 'height', 'influx'] is_view=False>"
      ]
     },
     "execution_count": 6,
     "metadata": {},
     "output_type": "execute_result"
    }
   ],
   "source": [
    "# The cutout is now prepared\n",
    "cutout"
   ]
  },
  {
   "cell_type": "code",
   "execution_count": 7,
   "metadata": {},
   "outputs": [
    {
     "data": {
      "text/plain": [
       "{'height', 'influx', 'runoff', 'temperature', 'wind'}"
      ]
     },
     "execution_count": 8,
     "metadata": {},
     "output_type": "execute_result"
    }
   ],
   "source": [
    "# prepared_features tells you which data is already included in the cutout\n",
    "# If you choose datasources other than ERA5, you can include data features\n",
    "# consecutively instead of all at once\n",
    "cutout.prepared_features"
   ]
  },
  {
   "cell_type": "code",
   "execution_count": 9,
   "metadata": {},
   "outputs": [
    {
     "data": {
      "text/plain": [
       "<xarray.Dataset>\n",
       "Dimensions:           (time: 744, x: 62, y: 44)\n",
       "Coordinates:\n",
       "  * x                 (x) float64 -13.5 -13.25 -13.0 -12.75 ... 1.25 1.5 1.75\n",
       "  * y                 (y) float64 60.75 60.5 60.25 60.0 ... 50.5 50.25 50.0\n",
       "  * time              (time) datetime64[ns] 2011-01-01 ... 2011-01-31T23:00:00\n",
       "    lat               (y) float64 ...\n",
       "    lon               (x) float64 ...\n",
       "Data variables:\n",
       "    height            (y, x) float32 ...\n",
       "    temperature       (time, y, x) float32 ...\n",
       "    soil temperature  (time, y, x) float32 ...\n",
       "    roughness         (time, y, x) float32 ...\n",
       "    wnd100m           (time, y, x) float32 ...\n",
       "    runoff            (time, y, x) float32 ...\n",
       "    influx_toa        (time, y, x) float32 ...\n",
       "    influx_direct     (time, y, x) float32 ...\n",
       "    albedo            (time, y, x) float32 ...\n",
       "    influx_diffuse    (time, y, x) float32 ...\n",
       "Attributes:\n",
       "    module:               era5\n",
       "    prepared_features:    ['height', 'temperature', 'wind', 'runoff', 'influx']\n",
       "    creation_parameters:  {'x': slice(-13.6913, 1.7712, None), 'y': slice(60...."
      ]
     },
     "execution_count": 10,
     "metadata": {},
     "output_type": "execute_result"
    }
   ],
   "source": [
    "# You can access the xarray data underlying the cutout.\n",
    "# Note that xarray implements lazy loading, i.e. only the\n",
    "# data in the end/beginning is loaded, all the other data\n",
    "# marked with \"...\" is only on disk, not in memory\n",
    "cutout.data"
   ]
  },
  {
   "cell_type": "code",
   "execution_count": 11,
   "metadata": {},
   "outputs": [
    {
     "name": "stdout",
     "output_type": "stream",
     "text": [
      "module era5\n",
      "prepared_features ['height', 'temperature', 'wind', 'runoff', 'influx']\n",
      "creation_parameters {'x': slice(-13.6913, 1.7712, None), 'y': slice(60.8479, 49.9096, None), 'time': '2011-01'}\n"
     ]
    }
   ],
   "source": [
    "# The meta information from creation of your cutout\n",
    "for k,v in cutout.data.attrs.items():\n",
    "    print(k,v)"
   ]
  },
  {
   "cell_type": "code",
   "execution_count": 12,
   "metadata": {},
   "outputs": [
    {
     "data": {
      "text/plain": [
       "<matplotlib.collections.QuadMesh object at 0x0000027FAC8B7128>"
      ]
     },
     "execution_count": 13,
     "metadata": {},
     "output_type": "execute_result"
    },
    {
     "data": {
      "image/png": "[encoded data removed]",
      "text/plain": [
       "<Figure size 432x288 with 2 Axes>"
      ]
     },
     "metadata": {
      "needs_background": "light"
     },
     "output_type": "display_data"
    }
   ],
   "source": [
    "# If you have matplotlib installed, you can also directly\n",
    "# utilise the plot functionality of xarray to inspect the\n",
    "# data of your cutout, e.g. the height of the grid points\n",
    "import matplotlib.pyplot as plt\n",
    "cutout.data.height.plot()"
   ]
  }
 ],
 "metadata": {
  "kernelspec": {
   "display_name": "Python [conda env:atlite]",
   "language": "python",
   "name": "conda-env-atlite-py"
  },
  "language_info": {
   "codemirror_mode": {
    "name": "ipython",
    "version": 3
   },
   "file_extension": ".py",
   "mimetype": "text/x-python",
   "name": "python",
   "nbconvert_exporter": "python",
   "pygments_lexer": "ipython3",
   "version": "3.7.3"
  }
 },
 "nbformat": 4,
 "nbformat_minor": 2
}
