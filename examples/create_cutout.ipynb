{
 "cells": [
  {
   "cell_type": "markdown",
   "metadata": {},
   "source": [
    "# Creating a Cutout with ERA5"
   ]
  },
  {
   "cell_type": "markdown",
   "metadata": {},
   "source": [
    "In this example we download ERA5 data on-demand for a cutout we want to create.\n",
    "(Atlite does also work with other datasources, but ERA5 is the easiest one to get started.)\n",
    "\n",
    "This only works if you have in before\n",
    "\n",
    "* Installed the Copernicus Climate Data Store `cdsapi` package\n",
    "* Registered and setup your CDS API key as described [on their website here](https://cds.climate.copernicus.eu/api-how-to)"
   ]
  },
  {
   "cell_type": "markdown",
   "metadata": {},
   "source": [
    "Import the package first:"
   ]
  },
  {
   "cell_type": "code",
   "execution_count": 1,
   "metadata": {},
   "outputs": [],
   "source": [
    "import atlite"
   ]
  },
  {
   "cell_type": "markdown",
   "metadata": {},
   "source": [
    "We implement notifications in `atlite` using loggers from the `logging` library.\n",
    "\n",
    "We recommend you always launch a logger to get information on what is going on.\n",
    "For debugging, you can use the more verbose `level=logging.DEBUG`:"
   ]
  },
  {
   "cell_type": "code",
   "execution_count": 2,
   "metadata": {},
   "outputs": [],
   "source": [
    "import logging\n",
    "logging.basicConfig(level=logging.INFO)"
   ]
  },
  {
   "cell_type": "markdown",
   "metadata": {},
   "source": [
    "## Defining the Cutout extent\n",
    "\n",
    "> This will not yet trigger any major operations.\n",
    "\n",
    "A cutout is the basis for any of your work and calculations.\n",
    "\n",
    "The `cutout` is created in the directory `cutout_dir` with the provided `name`.\n",
    "If you have already created a cutout and `atlite` can find it in `cutout_dir` with\n",
    "`name`, then this command will load the cutout rather than recreating it again:"
   ]
  },
  {
   "cell_type": "code",
   "execution_count": 3,
   "metadata": {},
   "outputs": [
    {
     "name": "stderr",
     "output_type": "stream",
     "text": [
      "INFO:atlite.cutout:Cutout western-europe-2011-01 not found in directory ./, building new one\n"
     ]
    }
   ],
   "source": [
    "cutout = atlite.Cutout(\"western-europe-2011-01.nc\",\n",
    "                       module=\"era5\",\n",
    "                       x=slice(-13.6913, 1.7712),\n",
    "                       y=slice(49.9096, 60.8479),\n",
    "                       time=\"2011-01\"\n",
    "                       )"
   ]
  },
  {
   "cell_type": "markdown",
   "metadata": {},
   "source": [
    "For creating the cutout, you need to specify\n",
    "\n",
    "* The dataset to create the cutout with\n",
    "* The time period it covers\n",
    "* The longitude `x` and latitude `y` it stretches\n",
    "\n",
    "\n",
    "Here we went with the `ERA5` dataset from ECMWF\n",
    "\n",
    "```\n",
    "module=\"era5\"\n",
    "```\n",
    "\n",
    "Here we decided to provide the `time` period of the cutout as a string, because it is only a month.\n",
    "You could have also specify it as a time range\n",
    "\n",
    "```\n",
    "slice(\"2011-01\",\"2011-01\")\n",
    "```\n",
    "\n",
    "The regional bounds (space the cutout stretches) where specified by the\n",
    "```\n",
    "x=slice(-13.6913, 1.7712) # Longitude\n",
    "y=slice(60.8479, 49.9096) # Latitude\n",
    "```\n",
    "\n",
    "and describe a rectangle's (upper left to lower right) edges.\n",
    "In this case we drew a rectangle containing some parts of the atlantic ocean,\n",
    "the Republic of Ireland and the UK."
   ]
  },
  {
   "cell_type": "markdown",
   "metadata": {},
   "source": [
    "## Preparing the Cutout\n",
    "\n",
    "If the cutout does not yet exist or has some features which are not yet included\n",
    "(\"The cutout is not prepared\"), then we have to tell atlite to go ahead an do so.\n",
    "\n",
    "No matter which dataset you use, this is where all the work actually happens.\n",
    "This can be fast or take some or a lot of time and resources, among others depending on\n",
    "your computer ressources and (for downloading e.g. ERA5 data) your internet connection."
   ]
  },
  {
   "cell_type": "code",
   "execution_count": 4,
   "metadata": {},
   "outputs": [
    {
     "name": "stderr",
     "output_type": "stream",
     "text": [
      "INFO:cdsapi:Sending request to https://cds.climate.copernicus.eu/api/v2/resources/reanalysis-era5-single-levels\n",
      "INFO:cdsapi:Sending request to https://cds.climate.copernicus.eu/api/v2/resources/reanalysis-era5-single-levels\n",
      "INFO:cdsapi:Sending request to https://cds.climate.copernicus.eu/api/v2/resources/reanalysis-era5-single-levels\n",
      "INFO:cdsapi:Sending request to https://cds.climate.copernicus.eu/api/v2/resources/reanalysis-era5-single-levels\n",
      "INFO:cdsapi:Sending request to https://cds.climate.copernicus.eu/api/v2/resources/reanalysis-era5-single-levels\n",
      "INFO:cdsapi:Request is completed\n",
      "INFO:cdsapi:Request is completed\n",
      "INFO:atlite.datasets.common:Downloading request for 3 variables to C:\\Users\\User\\AppData\\Local\\Temp\\tmpjk7ob_50.nc\n",
      "INFO:atlite.datasets.common:Downloading request for 2 variables to C:\\Users\\User\\AppData\\Local\\Temp\\tmpd3eblalx.nc\n",
      "INFO:cdsapi:Downloading http://136.156.132.105/cache-compute-0000/cache/data6/adaptor.mars.internal-1565619153.2501066-21931-9-f5132757-2464-464d-bb6a-7773a13a9d0a.nc to C:\\Users\\User\\AppData\\Local\\Temp\\tmpjk7ob_50.nc (11.6M)\n",
      "INFO:cdsapi:Downloading http://136.156.132.236/cache-compute-0007/cache/data4/adaptor.mars.internal-1565619153.2552354-15984-15-045bd744-7d81-434e-a744-42ef409862df.nc to C:\\Users\\User\\AppData\\Local\\Temp\\tmpd3eblalx.nc (7.7M)\n",
      "INFO:cdsapi:Downloading http://136.156.133.36/cache-compute-0010/cache/data8/adaptor.mars.internal-1565619153.0144284-19927-19-2f054711-e53a-4cba-b150-fde47efed39d.nc to C:\\Users\\User\\AppData\\Local\\Temp\\tmpu3tdca37.nc (3.9M)\n",
      "  0%|                                                                                                                                  | 0.00/3.88M [00:00<?, ?B/s]INFO:cdsapi:Request is completed\n",
      "INFO:atlite.datasets.common:Downloading request for 9 variables to C:\\Users\\User\\AppData\\Local\\Temp\\tmpwvxnfzqc.nc\n",
      "INFO:cdsapi:Downloading http://136.156.133.32/cache-compute-0009/cache/data8/adaptor.mars.internal-1565619153.6595001-18245-13-5256a1ca-1996-4c02-a504-f74c0e55d91a.nc to C:\\Users\\User\\AppData\\Local\\Temp\\tmpwvxnfzqc.nc (6.8K)\n",
      "INFO:atlite.datasets.common:Downloading request for 4 variables to C:\\Users\\User\\AppData\\Local\\Temp\\tmp20xi5b3w.nc\n",
      "INFO:cdsapi:Downloading http://136.156.133.41/cache-compute-0013/cache/data5/adaptor.mars.internal-1565619153.5491006-17518-17-520cf153-8f3f-467a-8d0a-fe23b2d0c230.nc to C:\\Users\\User\\AppData\\Local\\Temp\\tmp20xi5b3w.nc (15.5M)\n",
      "INFO:cdsapi:Download rate 5.4M/s\n",
      "INFO:cdsapi:Download rate 4.8M/s\n",
      "INFO:cdsapi:Download rate 1.8M/s\n",
      "INFO:cdsapi:Download rate 5.2M/s\n",
      " 88%|█████████████████████████████████████████████████████████████████████████████████████████████████████████████████████████| 3.42M/3.88M [00:01<00:00, 2.38MB/s]\n",
      "C:\\anaconda\\envs\\atlite\\lib\\site-packages\\dask\\core.py:119: RuntimeWarning: divide by zero encountered in true_divide\n",
      "  return func(*args2)\n",
      "C:\\anaconda\\envs\\atlite\\lib\\site-packages\\dask\\core.py:119: RuntimeWarning: invalid value encountered in true_divide\n",
      "  return func(*args2)\n",
      "INFO:atlite.datasets.common:Deleting file C:\\Users\\User\\AppData\\Local\\Temp\\tmpd3eblalx.nc\n",
      "INFO:atlite.datasets.common:Deleting file C:\\Users\\User\\AppData\\Local\\Temp\\tmp20xi5b3w.nc\n",
      "INFO:atlite.datasets.common:Deleting file C:\\Users\\User\\AppData\\Local\\Temp\\tmpu3tdca37.nc\n",
      "INFO:atlite.datasets.common:Deleting file C:\\Users\\User\\AppData\\Local\\Temp\\tmpjk7ob_50.nc\n",
      "INFO:atlite.datasets.common:Deleting file C:\\Users\\User\\AppData\\Local\\Temp\\tmpwvxnfzqc.nc\n"
     ]
    }
   ],
   "source": [
    "cutout.prepare()"
   ]
  },
  {
   "cell_type": "markdown",
   "metadata": {},
   "source": [
    "Querying the cutout gives us some basic information on which data is contained\n",
    "in it an can already be used."
   ]
  },
  {
   "cell_type": "code",
   "execution_count": 5,
   "metadata": {},
   "outputs": [
    {
     "data": {
      "text/plain": [
       "<Cutout western-europe-2011-01 x=-13.50-1.75 y=60.75-50.00 time=2011-01-01T00:00:00.000000000-2011-01-31T23:00:00.000000000 prepared_features=['runoff', 'temperature', 'influx', 'wind', 'height'] is_view=False>"
      ]
     },
     "execution_count": 5,
     "metadata": {},
     "output_type": "execute_result"
    }
   ],
   "source": [
    "cutout"
   ]
  },
  {
   "cell_type": "markdown",
   "metadata": {},
   "source": [
    "We can access some information more specifically"
   ]
  },
  {
   "cell_type": "code",
   "execution_count": 6,
   "metadata": {},
   "outputs": [
    {
     "data": {
      "text/plain": [
       "{'height', 'influx', 'runoff', 'temperature', 'wind'}"
      ]
     },
     "execution_count": 6,
     "metadata": {},
     "output_type": "execute_result"
    }
   ],
   "source": [
    "cutout.prepared_features"
   ]
  },
  {
   "cell_type": "markdown",
   "metadata": {},
   "source": [
    "And the metadata used to create the cutout"
   ]
  },
  {
   "cell_type": "code",
   "execution_count": 7,
   "metadata": {},
   "outputs": [
    {
     "data": {
      "text/plain": [
       "OrderedDict([('module', 'era5'),\n",
       "             ('prepared_features',\n",
       "              ['temperature', 'influx', 'runoff', 'wind', 'height']),\n",
       "             ('creation_parameters',\n",
       "              \"{'x': slice(-13.6913, 1.7712, None), 'y': slice(60.8479, 49.9096, None), 'time': '2011-01'}\")])"
      ]
     },
     "execution_count": 7,
     "metadata": {},
     "output_type": "execute_result"
    }
   ],
   "source": [
    "cutout.data.attrs"
   ]
  },
  {
   "cell_type": "markdown",
   "metadata": {},
   "source": [
    "We can access the underlying data (as a `xarray`).\n",
    "This library implements lazy loading, so while we can preview the\n",
    "data, it is usually only partially or fully loaded when we request\n",
    "specific information or do operations on a whole feature parameter.\n",
    "Information not loaded is indicated by the `...`:"
   ]
  },
  {
   "cell_type": "code",
   "execution_count": 8,
   "metadata": {},
   "outputs": [
    {
     "data": {
      "text/plain": [
       "<xarray.Dataset>\n",
       "Dimensions:           (time: 744, x: 62, y: 44)\n",
       "Coordinates:\n",
       "  * x                 (x) float64 -13.5 -13.25 -13.0 -12.75 ... 1.25 1.5 1.75\n",
       "  * y                 (y) float64 60.75 60.5 60.25 60.0 ... 50.5 50.25 50.0\n",
       "  * time              (time) datetime64[ns] 2011-01-01 ... 2011-01-31T23:00:00\n",
       "    lat               (y) float64 ...\n",
       "    lon               (x) float64 ...\n",
       "Data variables:\n",
       "    temperature       (time, y, x) float32 ...\n",
       "    soil temperature  (time, y, x) float32 ...\n",
       "    influx_toa        (time, y, x) float32 ...\n",
       "    influx_direct     (time, y, x) float32 ...\n",
       "    albedo            (time, y, x) float32 ...\n",
       "    influx_diffuse    (time, y, x) float32 ...\n",
       "    runoff            (time, y, x) float32 ...\n",
       "    roughness         (time, y, x) float32 ...\n",
       "    wnd100m           (time, y, x) float32 ...\n",
       "    height            (y, x) float32 ...\n",
       "Attributes:\n",
       "    module:               era5\n",
       "    prepared_features:    ['temperature', 'influx', 'runoff', 'wind', 'height']\n",
       "    creation_parameters:  {'x': slice(-13.6913, 1.7712, None), 'y': slice(60...."
      ]
     },
     "execution_count": 8,
     "metadata": {},
     "output_type": "execute_result"
    }
   ],
   "source": [
    "cutout.data"
   ]
  },
  {
   "cell_type": "markdown",
   "metadata": {},
   "source": [
    "If you have matplotlib installed, you can directly use the \n",
    "plotting functionality from `xarray` to plot features from\n",
    "the cutout's data.\n",
    "\n",
    "<div class=\"alert alert-info\">\n",
    "\n",
    "**Warning:** This will trigger `xarray` to load all the `height` data from disk into memory!\n",
    "\n",
    "</div>"
   ]
  }
 ],
 "metadata": {
  "kernelspec": {
   "display_name": "Python [conda env:atlite]",
   "language": "python",
   "name": "conda-env-atlite-py"
  },
  "language_info": {
   "codemirror_mode": {
    "name": "ipython",
    "version": 3
   },
   "file_extension": ".py",
   "mimetype": "text/x-python",
   "name": "python",
   "nbconvert_exporter": "python",
   "pygments_lexer": "ipython3",
   "version": "3.7.3"
  }
 },
 "nbformat": 4,
 "nbformat_minor": 2
}