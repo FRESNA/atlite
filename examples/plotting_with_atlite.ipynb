{
 "cells": [
  {
   "cell_type": "markdown",
   "metadata": {},
   "source": [
    "# Plotting with Atlite\n",
    "\n",
    "This little notebook creates all the plots given in the introduction section. Mainly using the packages [Cartopy](https://pypi.org/project/Cartopy/), [GeoPandas](http://geopandas.org/) and [xarray](http://xarray.pydata.org/en/stable/) geographical plotting can be efficiently and straightfowardly done. Since they interact well together, one has just to consider some essential commands. In particular the package scopes are distributed as following \n",
    "\n",
    "* when it comes to projections, ask Cartopy (projection, transformation)\n",
    "* when it comes to plotting shapes, ask GeoPandas\n",
    "* when it comes to plotting data on geographical grids, ask xarray\n",
    "\n",
    "So, let's directly go to the code!\n",
    "\n",
    "First of all import all relevant packages "
   ]
  },
  {
   "cell_type": "code",
   "execution_count": null,
   "metadata": {},
   "outputs": [],
   "source": [
    "import matplotlib.pyplot as plt\n",
    "import geopandas as gpd\n",
    "import pandas as pd\n",
    "import seaborn as sns\n",
    "import cartopy.crs as ccrs\n",
    "from cartopy.crs import PlateCarree as plate\n",
    "import cartopy.io.shapereader as shpreader\n",
    "import xarray as xs\n",
    "from matplotlib.gridspec import GridSpec\n",
    "import atlite\n",
    "import os"
   ]
  },
  {
   "cell_type": "markdown",
   "metadata": {},
   "source": [
    "## Create Shapes for United Kingdom and Ireland\n",
    "* use the shapereader of Cartopy to retrieve high resoluted shapes\n",
    "* make a GeoSeries with the shapes"
   ]
  },
  {
   "cell_type": "code",
   "execution_count": null,
   "metadata": {},
   "outputs": [],
   "source": [
    "shpfilename = shpreader.natural_earth(resolution='10m',\n",
    "                                      category='cultural',\n",
    "                                      name='admin_0_countries')\n",
    "reader = shpreader.Reader(shpfilename)\n",
    "UkIr = gpd.GeoSeries({r.attributes['NAME_EN']: r.geometry\n",
    "                    for r in reader.records()}, crs={'init' :'epsg:4326'})\\\n",
    "                    .reindex(['United Kingdom', 'Ireland'])"
   ]
  },
  {
   "cell_type": "markdown",
   "metadata": {},
   "source": [
    "### Create Cutout\n",
    "* create a cutout with geographical bounds of the shapes"
   ]
  },
  {
   "cell_type": "code",
   "execution_count": null,
   "metadata": {},
   "outputs": [],
   "source": [
    "\n",
    "# Define the cutout; this will not yet trigger any major operations\n",
    "cutout = atlite.Cutout(name=\"uk-2011-01\",\n",
    "                       cutout_dir=\"./\",\n",
    "                       module=\"era5\",\n",
    "                       bounds=UkIr.unary_union.bounds,\n",
    "                       time=\"2011-01\")\n",
    "\n",
    "# This is where all the work happens (this can take some time).\n",
    "cutout.prepare()\n"
   ]
  },
  {
   "cell_type": "markdown",
   "metadata": {},
   "source": [
    "## Define a overall projection \n",
    "This projection will be used throughout the following plots. It has to be assigned to every axis that should be based on this projection"
   ]
  },
  {
   "cell_type": "code",
   "execution_count": null,
   "metadata": {},
   "outputs": [],
   "source": [
    "projection = ccrs.Orthographic(-10, 35)"
   ]
  },
  {
   "cell_type": "markdown",
   "metadata": {},
   "source": [
    "## Plot Earth with cutout bound\n",
    "* create GeoSeries with cell relevant data\n",
    "* plot 'naturalearth_lowres' (country shapes) with unary union of cells on top"
   ]
  },
  {
   "cell_type": "code",
   "execution_count": null,
   "metadata": {},
   "outputs": [],
   "source": [
    "cells = gpd.GeoDataFrame({'geometry':cutout.grid_cells,\n",
    "                          'capfactors':None,\n",
    "                          'x': cutout.grid_coordinates()[:,0],\n",
    "                          'y': cutout.grid_coordinates()[:,1]})\n",
    "\n",
    "df = gpd.read_file(gpd.datasets.get_path('naturalearth_lowres'))\n",
    "country_bound = gpd.GeoSeries(cells.unary_union)\n",
    "\n",
    "projection = ccrs.Orthographic(-10, 35)\n",
    "fig, ax = plt.subplots(subplot_kw={'projection':projection}, figsize=(6,6))\n",
    "df.plot(ax=ax, transform=plate())\n",
    "country_bound.plot(ax=ax, edgecolor='orange', facecolor='None', transform=plate())\n",
    "fig.tight_layout()"
   ]
  },
  {
   "cell_type": "markdown",
   "metadata": {},
   "source": [
    "## Plot Cutout with Solar Influx Data\n",
    "* create matplotlib [GridSpec](https://matplotlib.org/3.1.1/api/_as_gen/matplotlib.gridspec.GridSpec.html#matplotlib.gridspec.GridSpec)\n",
    "* country shapes and cells on left hand side\n",
    "* time series of wind100m, influx_direct, runoff on right hand side"
   ]
  },
  {
   "cell_type": "code",
   "execution_count": null,
   "metadata": {},
   "outputs": [],
   "source": [
    "fig = plt.figure(figsize=(12,7))\n",
    "gs = GridSpec(3, 3, figure=fig)\n",
    "\n",
    "ax = fig.add_subplot(gs[:, 0:2], projection=projection)\n",
    "plot_grid_dict = dict(alpha=0.1, edgecolor='k', zorder=4, facecolor='None', transform=plate())\n",
    "UkIr.plot(ax=ax, zorder=1, transform=plate())\n",
    "cells.plot(ax=ax, **plot_grid_dict)\n",
    "country_bound.plot(ax=ax, edgecolor='orange', facecolor='None', transform=plate())\n",
    "ax.outline_patch.set_edgecolor('white')\n",
    "\n",
    "ax1 = fig.add_subplot(gs[0,2])\n",
    "cutout.data.wnd100m.mean(['x', 'y']).plot(ax=ax1)\n",
    "ax1.set_frame_on(False)\n",
    "ax1.xaxis.set_visible(False)\n",
    "\n",
    "ax2 = fig.add_subplot(gs[1,2], sharex=ax1)\n",
    "cutout.data.influx_direct.mean(['x', 'y']).plot(ax=ax2)\n",
    "ax2.set_frame_on(False)\n",
    "ax2.xaxis.set_visible(False)\n",
    "\n",
    "ax3 = fig.add_subplot(gs[2,2], sharex=ax1)\n",
    "cutout.data.runoff.mean(['x', 'y']).plot(ax=ax3)\n",
    "ax3.set_frame_on(False)\n",
    "ax3.set_xlabel(None)\n",
    "fig.tight_layout()"
   ]
  },
  {
   "cell_type": "markdown",
   "metadata": {},
   "source": [
    "## Plot Capacity Factors\n",
    "* use xarray plotting function to directly plot data\n",
    "* plot cells GeoSeries on top"
   ]
  },
  {
   "cell_type": "code",
   "execution_count": null,
   "metadata": {},
   "outputs": [],
   "source": [
    "cap_factors = cutout.wind(turbine='Vestas_V112_3MW', capacity_factor=True)\n",
    "\n",
    "fig, ax = plt.subplots(subplot_kw={'projection':projection}, figsize=(9,7))\n",
    "cap_factors.name = 'Capacity Factor'\n",
    "cap_factors.plot(ax=ax, transform=plate(), alpha=0.8)\n",
    "cells.plot(ax=ax, **plot_grid_dict)\n",
    "ax.outline_patch.set_edgecolor('white')\n",
    "fig.tight_layout()"
   ]
  },
  {
   "cell_type": "code",
   "execution_count": null,
   "metadata": {},
   "outputs": [],
   "source": [
    "# Define capacity layout on plot it"
   ]
  },
  {
   "cell_type": "code",
   "execution_count": null,
   "metadata": {},
   "outputs": [],
   "source": [
    "sites = gpd.GeoDataFrame([['london', 0.7, 51.3, 20],\n",
    "                      ['dublin', -6.16, 53.21, 30],\n",
    "                      ['edinburgh', -3.13, 55.5, 10]],\n",
    "                     columns=['name', 'x', 'y', 'capacity']).set_index('name')\n",
    "\n",
    "nearest = cutout.data.sel({'x':sites.x.values, 'y':sites.y.values}, 'nearest').coords\n",
    "sites['x'] = nearest.get('x').values\n",
    "sites['y'] = nearest.get('y').values\n",
    "cells_production = sites.merge(cells, how='inner').rename(pd.Series(sites.index))\n",
    "\n",
    "layout = xs.DataArray(cells_production.set_index(['y', 'x']).capacity.unstack())\\\n",
    "                    .reindex_like(cap_factors).rename('Installed Capacity [MW]')\n",
    "\n",
    "fig, ax = plt.subplots(subplot_kw={'projection':projection}, figsize=(9,7))\n",
    "\n",
    "UkIr.plot(ax=ax, zorder=1, transform=plate(), alpha=0.3)\n",
    "cells.plot(ax=ax, **plot_grid_dict)\n",
    "layout.plot(ax=ax, transform=plate(), cmap='Reds', vmin=0,\n",
    "            label='Installed Capacity [MW]')\n",
    "ax.outline_patch.set_edgecolor('white')\n",
    "fig.tight_layout()"
   ]
  },
  {
   "cell_type": "markdown",
   "metadata": {},
   "source": [
    "## Plot Powerproduction"
   ]
  },
  {
   "cell_type": "code",
   "execution_count": null,
   "metadata": {},
   "outputs": [],
   "source": [
    "fig, axes = plt.subplots(len(sites), sharex=True, figsize=(9,4))\n",
    "powerproduction = cutout.wind('Vestas_V112_3MW', layout=layout,\n",
    "                              shapes=cells_production.geometry)\n",
    "\n",
    "powerproduction.to_series().unstack(0).plot(subplots=True, ax=axes)\n",
    "axes[2].set_xlabel('')\n",
    "fig.tight_layout()"
   ]
  },
  {
   "cell_type": "markdown",
   "metadata": {},
   "source": [
    "## Aggregate Power Production to Country Shapes"
   ]
  },
  {
   "cell_type": "code",
   "execution_count": null,
   "metadata": {},
   "outputs": [],
   "source": [
    "from shapely.geometry import Point\n",
    "\n",
    "fig = plt.figure(figsize=(12,7))\n",
    "gs = GridSpec(3, 3, figure=fig)\n",
    "\n",
    "ax = fig.add_subplot(gs[:, 0:2], projection=projection)\n",
    "gpd.GeoDataFrame(UkIr, columns=['geometry']).assign(color=['1', '2'])\\\n",
    "                .plot(column='color', ax=ax, zorder=1,\n",
    "                      transform=plate(), alpha=0.6)\n",
    "\n",
    "sites.assign(geometry=sites.apply(lambda ds: Point(ds.x, ds.y), axis=1))\\\n",
    "     .plot(ax=ax, zorder=2, transform=plate(), color='indianred')\n",
    "\n",
    "ax.outline_patch.set_edgecolor('white')\n",
    "\n",
    "powerproduction = cutout.wind('Vestas_V112_3MW', layout=layout.fillna(0),\n",
    "                              shapes=UkIr).to_series()\\\n",
    "                        .unstack(0).rename_axis(index='', columns='shapes')\n",
    "ax1 = fig.add_subplot(gs[1, 2])\n",
    "powerproduction['Ireland'].plot.area(ax=ax1, title='Ireland', color='indianred')\n",
    "ax2 = fig.add_subplot(gs[2, 2])\n",
    "powerproduction['United Kingdom'].plot.area(ax=ax2, title='United Kingdom', color='darkgreen')\n",
    "\n",
    "fig.tight_layout()"
   ]
  },
  {
   "cell_type": "markdown",
   "metadata": {},
   "source": [
    "## Plot Indicator Matrix\n",
    "* use seaborn heatmap for plotting"
   ]
  },
  {
   "cell_type": "code",
   "execution_count": null,
   "metadata": {},
   "outputs": [],
   "source": [
    "fig, ax = plt.subplots(figsize=(7,7))\n",
    "indicator_matrix_ir = cutout.indicatormatrix(UkIr)[0]\n",
    "sns.heatmap(indicator_matrix_ir.toarray().reshape(cutout.shape), cmap='Greens')\n",
    "fig.savefig(savepath + 'indicator_matrix.png', dpi=100)"
   ]
  }
 ],
 "metadata": {
  "@webio": {
   "lastCommId": null,
   "lastKernelId": null
  },
  "kernelspec": {
   "display_name": "Python 3",
   "language": "python",
   "name": "python3"
  },
  "language_info": {
   "codemirror_mode": {
    "name": "ipython",
    "version": 3
   },
   "file_extension": ".py",
   "mimetype": "text/x-python",
   "name": "python",
   "nbconvert_exporter": "python",
   "pygments_lexer": "ipython3",
   "version": "3.7.3"
  }
 },
 "nbformat": 4,
 "nbformat_minor": 2
}
