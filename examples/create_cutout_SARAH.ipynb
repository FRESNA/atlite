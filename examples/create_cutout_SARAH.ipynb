{
 "cells": [
  {
   "cell_type": "markdown",
   "metadata": {},
   "source": [
    "# Creating a Cutout with the SARAH-2 dataset"
   ]
  },
  {
   "cell_type": "markdown",
   "metadata": {},
   "source": [
    "This walkthrough describes the process of creating a cutout using the [SARAH-2 dataset by EUMETSAT](https://wui.cmsaf.eu/safira/action/viewDoiDetails?acronym=SARAH_V002_01).\n",
    "\n",
    "The SARAH-2 dataset contains extensive information on solar radiation variables, like surface incoming direct radiation (SID) or surface incoming shortwave radiation (SIS).\n",
    "It serves as an addition to the ERA5 dataset and as such requires the `cdsapi` to be setup properly.\n",
    "\n",
    "> **Recommendation**\n",
    ">\n",
    "> This is a reduced version for cutout creation. Creating cutouts with ERA-5 is simpler and explained in more details.\n",
    "> We therefore recommend you have a look at [this example first](https://atlite.readthedocs.io/en/latest/examples/create_cutout.html).\n",
    "\n",
    "> **Note**:\n",
    ">\n",
    "> For creating a cutout from this dataset, you need to download large files and your computers memory needs to be able to handle these as well."
   ]
  },
  {
   "cell_type": "markdown",
   "metadata": {},
   "source": [
    "## Downloading the data set"
   ]
  },
  {
   "cell_type": "markdown",
   "metadata": {},
   "source": [
    "To download the dataset, head to the EUMETSTATs website (the link points to the current 2.1 edition)\n",
    "\n",
    "https://wui.cmsaf.eu/safira/action/viewDoiDetails?acronym=SARAH_V002_01 \n",
    "\n",
    "On the bottom, select the products you want to include in the cutout, i.e. for us:\n",
    "\n",
    "| variable | time span | time resolution | \n",
    "| --- | --- | --- |\n",
    "| Surface incoming direct radiation (SID) | 2013 | Instantaneous |\n",
    "| Surface incoming shortwave radiation (SIS) | 2013 | Instantaneous |\n",
    "\n",
    "* Add each product to your cart and register with the website.\n",
    "* Follow the instructions to activate your account, confirm your order and wait for the download to be ready.\n",
    "* You will be notified by email with the download instructions.\n",
    "* Download the ordered files of your order into a directory, e.g. `sarah-2`.\n",
    "* Extract the `tar` files (e.g. for linux systems `tar -xvf *` or with `7zip` for windows) into the same folder\n",
    "\n",
    "You are now ready to create cutouts using the SARAH-2 dataset."
   ]
  },
  {
   "cell_type": "markdown",
   "metadata": {},
   "source": [
    "## Specifying the cutout"
   ]
  },
  {
   "cell_type": "markdown",
   "metadata": {},
   "source": [
    "Import the package and set recommended logging settings:"
   ]
  },
  {
   "cell_type": "code",
   "execution_count": 1,
   "metadata": {},
   "outputs": [],
   "source": [
    "import atlite\n",
    "\n",
    "import logging\n",
    "logging.basicConfig(level=logging.INFO)"
   ]
  },
  {
   "cell_type": "markdown",
   "metadata": {},
   "source": [
    "To download the dataset, head to the EUMETSTATs website (the link points to the current 2.1 edition)\n",
    "\n",
    "https://wui.cmsaf.eu/safira/action/viewDoiDetails?acronym=SARAH_V002_01 \n",
    "\n",
    "On the bottom, select the products you want to include in the cutout, i.e. for us:\n",
    "\n",
    "| variable | time span | time resolution | \n",
    "| --- | --- | --- |\n",
    "| Surface incoming direct radiation (SID) | 2013 | Instantaneous |\n",
    "| Surface incoming shortwave radiation (SIS) | 2013 | Instantaneous |\n",
    "\n",
    "* Add each product to your cart and register with the website.\n",
    "* Follow the instructions to activate your account, confirm your order and wait for the download to be ready.\n",
    "* You will be notified by email with the download instructions.\n",
    "* Download the ordered files of your order into a directory, e.g. `sarah-2`.\n",
    "* Extract the `tar` files (e.g. for linux systems `tar -xvf *` or with `7zip` for windows) into the same folder\n",
    "\n",
    "You are now ready to create cutouts using the SARAH-2 dataset."
   ]
  },
  {
   "cell_type": "code",
   "execution_count": 2,
   "metadata": {},
   "outputs": [
    {
     "name": "stderr",
     "output_type": "stream",
     "text": [
      "INFO:atlite.cutout:Cutout western-europe-2011-01.nc not found, building new one\n"
     ]
    }
   ],
   "source": [
    "cutout = atlite.Cutout(path=\"western-europe-2011-01.nc\",\n",
    "                       module=\"sarah\",\n",
    "                       sarah_dir=\"../../SARAH-2\",\n",
    "                       x=slice(-13.6913, 1.7712),\n",
    "                       y=slice(49.9096, 60.8479),\n",
    "                       time=\"2013-01\"\n",
    "                       )"
   ]
  },
  {
   "cell_type": "markdown",
   "metadata": {},
   "source": [
    "## Preparing the Cutout\n",
    "\n",
    "No matter which dataset you use, this is where all the work actually happens.\n",
    "This can be fast or take some or a lot of time and resources, among others depending on\n",
    "your computer ressources (especially memory for SARAH-2)."
   ]
  },
  {
   "cell_type": "code",
   "execution_count": 3,
   "metadata": {},
   "outputs": [
    {
     "name": "stderr",
     "output_type": "stream",
     "text": [
      "INFO:cdsapi:Sending request to https://cds.climate.copernicus.eu/api/v2/resources/reanalysis-era5-single-levels\n",
      "INFO:cdsapi:Sending request to https://cds.climate.copernicus.eu/api/v2/resources/reanalysis-era5-single-levels\n",
      "INFO:cdsapi:Request is queued\n",
      "INFO:cdsapi:Request is queued\n",
      "INFO:cdsapi:Request is running\n",
      "INFO:cdsapi:Request is running\n",
      "INFO:cdsapi:Request is completed\n",
      "INFO:atlite.datasets.common:Downloading request for 4 variables to /tmp/tmphqbwr4gx/tmpnhoiewq1.nc\n",
      "INFO:cdsapi:Downloading http://136.156.132.110/cache-compute-0001/cache/data9/adaptor.mars.internal-1584611541.3917537-17240-1-19643ff7-35af-40cd-acdc-7d7438a95535.nc to /tmp/tmphqbwr4gx/tmpnhoiewq1.nc (24M)\n",
      "INFO:cdsapi:Download rate 13.9M/s\n",
      "INFO:cdsapi:Request is queued\n",
      "INFO:cdsapi:Request is running\n",
      "INFO:cdsapi:Request is completed\n",
      "INFO:atlite.datasets.common:Downloading request for 2 variables to /tmp/tmphqbwr4gx/tmplsh3qom1.nc\n",
      "INFO:cdsapi:Downloading http://136.156.133.41/cache-compute-0013/cache/data4/adaptor.mars.internal-1584611944.4450932-5616-23-6a2129a7-c956-48e3-86b2-b07f64c6a3ee.nc to /tmp/tmphqbwr4gx/tmplsh3qom1.nc (12M)\n",
      "INFO:cdsapi:Download rate 9.2M/s\n"
     ]
    },
    {
     "name": "stdout",
     "output_type": "stream",
     "text": [
      "[####################################    ] | 91% Completed | 12min 16.4s"
     ]
    },
    {
     "name": "stderr",
     "output_type": "stream",
     "text": [
      "/home/vagrant/miniconda/envs/atlite-sarah/lib/python3.8/site-packages/dask/core.py:121: RuntimeWarning: divide by zero encountered in true_divide\n",
      "  return func(*(_execute_task(a, cache) for a in args))\n",
      "/home/vagrant/miniconda/envs/atlite-sarah/lib/python3.8/site-packages/dask/core.py:121: RuntimeWarning: invalid value encountered in true_divide\n",
      "  return func(*(_execute_task(a, cache) for a in args))\n"
     ]
    },
    {
     "name": "stdout",
     "output_type": "stream",
     "text": [
      "[########################################] | 100% Completed | 13min 37.9s\n"
     ]
    }
   ],
   "source": [
    "cutout.prepare()"
   ]
  },
  {
   "cell_type": "markdown",
   "metadata": {},
   "source": [
    "Querying the cutout gives us some basic information on which data is contained\n",
    "in it an can already be used."
   ]
  },
  {
   "cell_type": "markdown",
   "metadata": {},
   "source": [
    "## Inspecting the Cutout"
   ]
  },
  {
   "cell_type": "code",
   "execution_count": 4,
   "metadata": {},
   "outputs": [
    {
     "data": {
      "text/plain": [
       "<Cutout western-europe-2011-01 x=-13.60-1.60 y=50.00-60.80 time=2013-01-01-2013-01-31 prepared_features=['influx', 'temperature'] is_view=False>"
      ]
     },
     "execution_count": 4,
     "metadata": {},
     "output_type": "execute_result"
    }
   ],
   "source": [
    "cutout # basic information"
   ]
  },
  {
   "cell_type": "code",
   "execution_count": 5,
   "metadata": {},
   "outputs": [
    {
     "data": {
      "text/plain": [
       "{'module': 'sarah',\n",
       " 'prepared_features': ['influx', 'temperature'],\n",
       " 'creation_parameters': \"{'sarah_dir': '../../SARAH-2', 'x': slice(-13.6913, 1.7712, None), 'y': slice(49.9096, 60.8479, None), 'time': '2013-01'}\"}"
      ]
     },
     "execution_count": 5,
     "metadata": {},
     "output_type": "execute_result"
    }
   ],
   "source": [
    "cutout.data.attrs # cutout meta data"
   ]
  },
  {
   "cell_type": "code",
   "execution_count": 6,
   "metadata": {},
   "outputs": [
    {
     "data": {
      "text/plain": [
       "{'influx', 'temperature'}"
      ]
     },
     "execution_count": 6,
     "metadata": {},
     "output_type": "execute_result"
    }
   ],
   "source": [
    "cutout.prepared_features # included weather variables"
   ]
  },
  {
   "cell_type": "code",
   "execution_count": 7,
   "metadata": {},
   "outputs": [
    {
     "data": {
      "text/html": [
       "<pre>&lt;xarray.Dataset&gt;\n",
       "Dimensions:         (time: 744, x: 77, y: 55)\n",
       "Coordinates:\n",
       "  * time            (time) datetime64[ns] 2013-01-01 ... 2013-01-31T23:00:00\n",
       "  * x               (x) float64 -13.6 -13.4 -13.2 -13.0 ... 1.0 1.2 1.4 1.6\n",
       "  * y               (y) float64 50.0 50.2 50.4 50.6 50.8 ... 60.2 60.4 60.6 60.8\n",
       "    lon             (x) float64 ...\n",
       "    lat             (y) float64 ...\n",
       "Data variables:\n",
       "    influx_toa      (time, y, x) float32 ...\n",
       "    albedo          (time, y, x) float32 ...\n",
       "    influx_direct   (time, y, x) float32 ...\n",
       "    influx_diffuse  (time, y, x) float32 ...\n",
       "    temperature     (time, y, x) float32 ...\n",
       "Attributes:\n",
       "    module:               sarah\n",
       "    prepared_features:    [&#x27;influx&#x27;, &#x27;temperature&#x27;]\n",
       "    creation_parameters:  {&#x27;sarah_dir&#x27;: &#x27;../../SARAH-2&#x27;, &#x27;x&#x27;: slice(-13.6913,...</pre>"
      ],
      "text/plain": [
       "<xarray.Dataset>\n",
       "Dimensions:         (time: 744, x: 77, y: 55)\n",
       "Coordinates:\n",
       "  * time            (time) datetime64[ns] 2013-01-01 ... 2013-01-31T23:00:00\n",
       "  * x               (x) float64 -13.6 -13.4 -13.2 -13.0 ... 1.0 1.2 1.4 1.6\n",
       "  * y               (y) float64 50.0 50.2 50.4 50.6 50.8 ... 60.2 60.4 60.6 60.8\n",
       "    lon             (x) float64 ...\n",
       "    lat             (y) float64 ...\n",
       "Data variables:\n",
       "    influx_toa      (time, y, x) float32 ...\n",
       "    albedo          (time, y, x) float32 ...\n",
       "    influx_direct   (time, y, x) float32 ...\n",
       "    influx_diffuse  (time, y, x) float32 ...\n",
       "    temperature     (time, y, x) float32 ...\n",
       "Attributes:\n",
       "    module:               sarah\n",
       "    prepared_features:    ['influx', 'temperature']\n",
       "    creation_parameters:  {'sarah_dir': '../../SARAH-2', 'x': slice(-13.6913,..."
      ]
     },
     "execution_count": 7,
     "metadata": {},
     "output_type": "execute_result"
    }
   ],
   "source": [
    "cutout.data # access to underlying xarray data"
   ]
  }
 ],
 "metadata": {
  "kernelspec": {
   "display_name": "Python [conda env:atlite]",
   "language": "python",
   "name": "conda-env-atlite-py"
  },
  "language_info": {
   "codemirror_mode": {
    "name": "ipython",
    "version": 3
   },
   "file_extension": ".py",
   "mimetype": "text/x-python",
   "name": "python",
   "nbconvert_exporter": "python",
   "pygments_lexer": "ipython3",
   "version": "3.7.3"
  }
 },
 "nbformat": 4,
 "nbformat_minor": 4
}
